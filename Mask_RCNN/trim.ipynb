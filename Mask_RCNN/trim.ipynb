{
 "cells": [
  {
   "cell_type": "code",
   "execution_count": null,
   "id": "5b3571a5",
   "metadata": {},
   "outputs": [],
   "source": [
    "from skimage import io\n",
    "import os\n",
    "\n",
    "# Set the path to the input TIFF stack and output directory\n",
    "input_stack_path =  '' # EXAMPLE: 'D:\\\\Project\\\\Thesis raw data\\\\RBC\\\\Patch 0.9um\\\\-5mm FL_1\\\\-5mmHg FL.tif'\n",
    "output_path = '' # Specify the directory to save the trimmed TIF Stack\n",
    "\n",
    "# Set filename for the output tif stack\n",
    "output_filename = 'trimmed.tif' # EXAMPLE: '-5mm HG_1.tif'\n",
    "\n",
    "output_stack_path = os.path.join(output_path, output_filename)\n",
    "\n",
    "# Define the frame range you want to keep\n",
    "start_frame = 999  # Starting frame (inclusive)\n",
    "end_frame = 999    # Ending frame (inclusive)\n",
    "\n",
    "# Read the TIF stack using scikit-image\n",
    "stack = io.imread(input_stack_path)\n",
    "\n",
    "# Select the frames you want to save\n",
    "selected_frames = stack[start_frame - 1:end_frame]\n",
    "\n",
    "# Save the selected frames as a new TIF stack\n",
    "io.imsave(output_stack_path, selected_frames)\n",
    "\n",
    "print(f'Selected frames saved as {output_stack_path}')"
   ]
  }
 ],
 "metadata": {
  "kernelspec": {
   "display_name": "Thesis",
   "language": "python",
   "name": "thesis"
  },
  "language_info": {
   "codemirror_mode": {
    "name": "ipython",
    "version": 3
   },
   "file_extension": ".py",
   "mimetype": "text/x-python",
   "name": "python",
   "nbconvert_exporter": "python",
   "pygments_lexer": "ipython3",
   "version": "3.10.13"
  }
 },
 "nbformat": 4,
 "nbformat_minor": 5
}
